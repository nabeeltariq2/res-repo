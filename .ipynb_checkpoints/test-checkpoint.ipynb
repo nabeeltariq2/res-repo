{
 "cells": [
  {
   "cell_type": "code",
   "execution_count": 1,
   "metadata": {},
   "outputs": [
    {
     "name": "stderr",
     "output_type": "stream",
     "text": [
      "C:\\Users\\Nabeel\\Anaconda2\\lib\\site-packages\\pandas\\_libs\\__init__.py:3: RuntimeWarning: numpy.dtype size changed, may indicate binary incompatibility. Expected zd, got zd\n",
      "  from .tslib import iNaT, NaT, Timestamp, Timedelta, OutOfBoundsDatetime\n",
      "C:\\Users\\Nabeel\\Anaconda2\\lib\\site-packages\\pandas\\__init__.py:26: RuntimeWarning: numpy.dtype size changed, may indicate binary incompatibility. Expected zd, got zd\n",
      "  from pandas._libs import (hashtable as _hashtable,\n",
      "C:\\Users\\Nabeel\\Anaconda2\\lib\\site-packages\\pandas\\core\\dtypes\\common.py:6: RuntimeWarning: numpy.dtype size changed, may indicate binary incompatibility. Expected zd, got zd\n",
      "  from pandas._libs import algos, lib\n",
      "C:\\Users\\Nabeel\\Anaconda2\\lib\\site-packages\\pandas\\core\\util\\hashing.py:7: RuntimeWarning: numpy.dtype size changed, may indicate binary incompatibility. Expected zd, got zd\n",
      "  from pandas._libs import hashing, tslib\n",
      "C:\\Users\\Nabeel\\Anaconda2\\lib\\site-packages\\pandas\\core\\indexes\\base.py:6: RuntimeWarning: numpy.dtype size changed, may indicate binary incompatibility. Expected zd, got zd\n",
      "  from pandas._libs import (lib, index as libindex, tslib as libts,\n",
      "C:\\Users\\Nabeel\\Anaconda2\\lib\\site-packages\\pandas\\core\\indexes\\datetimelike.py:28: RuntimeWarning: numpy.dtype size changed, may indicate binary incompatibility. Expected zd, got zd\n",
      "  from pandas._libs.period import Period\n",
      "C:\\Users\\Nabeel\\Anaconda2\\lib\\site-packages\\pandas\\core\\sparse\\array.py:32: RuntimeWarning: numpy.dtype size changed, may indicate binary incompatibility. Expected zd, got zd\n",
      "  import pandas._libs.sparse as splib\n",
      "C:\\Users\\Nabeel\\Anaconda2\\lib\\site-packages\\pandas\\core\\window.py:36: RuntimeWarning: numpy.dtype size changed, may indicate binary incompatibility. Expected zd, got zd\n",
      "  import pandas._libs.window as _window\n",
      "C:\\Users\\Nabeel\\Anaconda2\\lib\\site-packages\\pandas\\core\\groupby.py:66: RuntimeWarning: numpy.dtype size changed, may indicate binary incompatibility. Expected zd, got zd\n",
      "  from pandas._libs import lib, groupby as libgroupby, Timestamp, NaT, iNaT\n",
      "C:\\Users\\Nabeel\\Anaconda2\\lib\\site-packages\\pandas\\core\\reshape\\reshape.py:30: RuntimeWarning: numpy.dtype size changed, may indicate binary incompatibility. Expected zd, got zd\n",
      "  from pandas._libs import algos as _algos, reshape as _reshape\n",
      "C:\\Users\\Nabeel\\Anaconda2\\lib\\site-packages\\pandas\\io\\parsers.py:43: RuntimeWarning: numpy.dtype size changed, may indicate binary incompatibility. Expected zd, got zd\n",
      "  import pandas._libs.parsers as parsers\n"
     ]
    }
   ],
   "source": [
    "\n",
    "\n",
    "# from __future__ import (absolute_import, division, print_function, unicode_literals)\n",
    "\n",
    "#import algorithms from surprise\n",
    "\n",
    "\n",
    "import numpy as np\n",
    "import pandas as pd\n",
    "from sqlalchemy import create_engine\n",
    "np.random.seed(101)\n",
    "from collections import defaultdict\n",
    "import os, io, sys\n",
    "from sqlalchemy.orm import sessionmaker, scoped_session\n",
    "from sqlalchemy import ForeignKey\n",
    "from sqlalchemy.orm import relationship, backref\n",
    "import config\n",
    "# from model import add_pageview\n",
    "\n",
    "\n",
    "# disable print\n"
   ]
  },
  {
   "cell_type": "code",
   "execution_count": 2,
   "metadata": {
    "collapsed": true
   },
   "outputs": [],
   "source": [
    "from sqlalchemy.ext.declarative import declarative_base\n",
    "from sqlalchemy import create_engine\n",
    "from sqlalchemy import Column, Integer, String, DateTime,Sequence, Numeric, Float\n",
    "from sqlalchemy.orm import sessionmaker, scoped_session\n",
    "from sqlalchemy import ForeignKey\n",
    "from sqlalchemy.orm import relationship, backref\n",
    "import config\n",
    "from sqlalchemy import text\n",
    "# import recommender1\n",
    "# import recommender2\n",
    "from planout.experiment import SimpleExperiment\n",
    "from planout.ops.random import *\n",
    "from sqlalchemy_utils import database_exists, create_database\n",
    "import datetime\n",
    "from sqlalchemy.sql import func\n"
   ]
  },
  {
   "cell_type": "code",
   "execution_count": 4,
   "metadata": {
    "collapsed": true
   },
   "outputs": [],
   "source": [
    "import model"
   ]
  },
  {
   "cell_type": "code",
   "execution_count": 7,
   "metadata": {
    "collapsed": true
   },
   "outputs": [],
   "source": [
    "algo1_id = model.show_current_algo(1)"
   ]
  },
  {
   "cell_type": "code",
   "execution_count": 9,
   "metadata": {},
   "outputs": [
    {
     "data": {
      "text/plain": [
       "u'recommender1_random'"
      ]
     },
     "execution_count": 9,
     "metadata": {},
     "output_type": "execute_result"
    }
   ],
   "source": [
    "algo1_id[0].algorithm"
   ]
  },
  {
   "cell_type": "code",
   "execution_count": 14,
   "metadata": {},
   "outputs": [
    {
     "ename": "SyntaxError",
     "evalue": "invalid syntax (<ipython-input-14-907627562afe>, line 1)",
     "output_type": "error",
     "traceback": [
      "\u001b[1;36m  File \u001b[1;32m\"<ipython-input-14-907627562afe>\"\u001b[1;36m, line \u001b[1;32m1\u001b[0m\n\u001b[1;33m    import eval(s)\u001b[0m\n\u001b[1;37m               ^\u001b[0m\n\u001b[1;31mSyntaxError\u001b[0m\u001b[1;31m:\u001b[0m invalid syntax\n"
     ]
    }
   ],
   "source": [
    "import eval(algo1_id[0].algorithm)"
   ]
  },
  {
   "cell_type": "code",
   "execution_count": 17,
   "metadata": {
    "collapsed": true
   },
   "outputs": [],
   "source": [
    "moduleNames = [str(algo1_id[0].algorithm)]"
   ]
  },
  {
   "cell_type": "code",
   "execution_count": 18,
   "metadata": {},
   "outputs": [
    {
     "data": {
      "text/plain": [
       "['recommender1_random']"
      ]
     },
     "execution_count": 18,
     "metadata": {},
     "output_type": "execute_result"
    }
   ],
   "source": [
    "moduleNames"
   ]
  },
  {
   "cell_type": "code",
   "execution_count": 19,
   "metadata": {
    "collapsed": true
   },
   "outputs": [],
   "source": [
    "modules = map(__import__, moduleNames)"
   ]
  },
  {
   "cell_type": "code",
   "execution_count": 20,
   "metadata": {},
   "outputs": [
    {
     "data": {
      "text/plain": [
       "[<module 'recommender1_random' from 'recommender1_random.pyc'>]"
      ]
     },
     "execution_count": 20,
     "metadata": {},
     "output_type": "execute_result"
    }
   ],
   "source": [
    "modules"
   ]
  },
  {
   "cell_type": "code",
   "execution_count": 21,
   "metadata": {
    "collapsed": true
   },
   "outputs": [],
   "source": [
    "import sys"
   ]
  },
  {
   "cell_type": "code",
   "execution_count": 22,
   "metadata": {},
   "outputs": [
    {
     "ename": "NameError",
     "evalue": "name 'recommender1_random' is not defined",
     "output_type": "error",
     "traceback": [
      "\u001b[1;31m---------------------------------------------------------------------------\u001b[0m",
      "\u001b[1;31mNameError\u001b[0m                                 Traceback (most recent call last)",
      "\u001b[1;32m<ipython-input-22-f869abd34f3c>\u001b[0m in \u001b[0;36m<module>\u001b[1;34m()\u001b[0m\n\u001b[1;32m----> 1\u001b[1;33m \u001b[0ms\u001b[0m \u001b[1;33m=\u001b[0m \u001b[0meval\u001b[0m\u001b[1;33m(\u001b[0m\u001b[0mstr\u001b[0m\u001b[1;33m(\u001b[0m\u001b[0malgo1_id\u001b[0m\u001b[1;33m[\u001b[0m\u001b[1;36m0\u001b[0m\u001b[1;33m]\u001b[0m\u001b[1;33m.\u001b[0m\u001b[0malgorithm\u001b[0m\u001b[1;33m)\u001b[0m\u001b[1;33m)\u001b[0m\u001b[1;33m\u001b[0m\u001b[0m\n\u001b[0m",
      "\u001b[1;32m<string>\u001b[0m in \u001b[0;36m<module>\u001b[1;34m()\u001b[0m\n",
      "\u001b[1;31mNameError\u001b[0m: name 'recommender1_random' is not defined"
     ]
    }
   ],
   "source": [
    "s = eval(str(algo1_id[0].algorithm))"
   ]
  },
  {
   "cell_type": "code",
   "execution_count": 24,
   "metadata": {},
   "outputs": [
    {
     "ename": "NameError",
     "evalue": "name 'recommender1_random' is not defined",
     "output_type": "error",
     "traceback": [
      "\u001b[1;31m---------------------------------------------------------------------------\u001b[0m",
      "\u001b[1;31mNameError\u001b[0m                                 Traceback (most recent call last)",
      "\u001b[1;32m<ipython-input-24-009fdec11c58>\u001b[0m in \u001b[0;36m<module>\u001b[1;34m()\u001b[0m\n\u001b[1;32m----> 1\u001b[1;33m \u001b[0meval\u001b[0m\u001b[1;33m(\u001b[0m\u001b[0malgo1_id\u001b[0m\u001b[1;33m[\u001b[0m\u001b[1;36m0\u001b[0m\u001b[1;33m]\u001b[0m\u001b[1;33m.\u001b[0m\u001b[0malgorithm\u001b[0m\u001b[1;33m)\u001b[0m\u001b[1;33m\u001b[0m\u001b[0m\n\u001b[0m",
      "\u001b[1;32m<string>\u001b[0m in \u001b[0;36m<module>\u001b[1;34m()\u001b[0m\n",
      "\u001b[1;31mNameError\u001b[0m: name 'recommender1_random' is not defined"
     ]
    }
   ],
   "source": [
    "eval(algo1_id[0].algorithm)"
   ]
  },
  {
   "cell_type": "code",
   "execution_count": 36,
   "metadata": {},
   "outputs": [
    {
     "data": {
      "text/plain": [
       "'RANDOM'"
      ]
     },
     "execution_count": 36,
     "metadata": {},
     "output_type": "execute_result"
    }
   ],
   "source": [
    "str(algo1_id[0].algorithm)[13:].upper()"
   ]
  },
  {
   "cell_type": "code",
   "execution_count": 26,
   "metadata": {
    "collapsed": true
   },
   "outputs": [],
   "source": [
    "new_module = __import__(algo1_id[0].algorithm)\n"
   ]
  },
  {
   "cell_type": "code",
   "execution_count": 27,
   "metadata": {},
   "outputs": [
    {
     "data": {
      "text/plain": [
       "<module 'recommender1_random' from 'recommender1_random.pyc'>"
      ]
     },
     "execution_count": 27,
     "metadata": {},
     "output_type": "execute_result"
    }
   ],
   "source": [
    "new_module"
   ]
  },
  {
   "cell_type": "code",
   "execution_count": 28,
   "metadata": {},
   "outputs": [
    {
     "name": "stdout",
     "output_type": "stream",
     "text": [
      "2018-08-04 10:52:24,124 INFO sqlalchemy.engine.base.Engine SHOW VARIABLES LIKE 'sql_mode'\n",
      "2018-08-04 10:52:24,128 INFO sqlalchemy.engine.base.Engine {}\n",
      "2018-08-04 10:52:24,217 INFO sqlalchemy.engine.base.Engine SELECT DATABASE()\n",
      "2018-08-04 10:52:24,220 INFO sqlalchemy.engine.base.Engine {}\n",
      "2018-08-04 10:52:24,276 INFO sqlalchemy.engine.base.Engine show collation where `Charset` = 'utf8' and `Collation` = 'utf8_bin'\n",
      "2018-08-04 10:52:24,279 INFO sqlalchemy.engine.base.Engine {}\n",
      "2018-08-04 10:52:24,325 INFO sqlalchemy.engine.base.Engine SELECT CAST('test plain returns' AS CHAR(60)) AS anon_1\n",
      "2018-08-04 10:52:24,329 INFO sqlalchemy.engine.base.Engine {}\n",
      "2018-08-04 10:52:24,365 INFO sqlalchemy.engine.base.Engine SELECT CAST('test unicode returns' AS CHAR(60)) AS anon_1\n",
      "2018-08-04 10:52:24,368 INFO sqlalchemy.engine.base.Engine {}\n",
      "2018-08-04 10:52:24,428 INFO sqlalchemy.engine.base.Engine SELECT CAST('test collated returns' AS CHAR CHARACTER SET utf8) COLLATE utf8_bin AS anon_1\n",
      "2018-08-04 10:52:24,431 INFO sqlalchemy.engine.base.Engine {}\n",
      "2018-08-04 10:52:24,627 INFO sqlalchemy.engine.base.Engine DESCRIBE `SELECT * FROM ratings;`\n",
      "2018-08-04 10:52:24,631 INFO sqlalchemy.engine.base.Engine {}\n",
      "2018-08-04 10:52:24,677 INFO sqlalchemy.engine.base.Engine ROLLBACK\n",
      "2018-08-04 10:52:25,128 INFO sqlalchemy.engine.base.Engine SELECT * FROM ratings;\n",
      "2018-08-04 10:52:25,131 INFO sqlalchemy.engine.base.Engine {}\n",
      "2018-08-04 10:52:27,233 INFO sqlalchemy.engine.base.Engine DESCRIBE `SELECT * FROM items;`\n",
      "2018-08-04 10:52:27,236 INFO sqlalchemy.engine.base.Engine {}\n",
      "2018-08-04 10:52:27,280 INFO sqlalchemy.engine.base.Engine ROLLBACK\n",
      "2018-08-04 10:52:27,707 INFO sqlalchemy.engine.base.Engine SELECT * FROM items;\n",
      "2018-08-04 10:52:27,710 INFO sqlalchemy.engine.base.Engine {}\n",
      "2018-08-04 10:52:28,638 INFO sqlalchemy.engine.base.Engine DESCRIBE `recommendations1`\n",
      "2018-08-04 10:52:28,641 INFO sqlalchemy.engine.base.Engine {}\n",
      "2018-08-04 10:52:28,917 INFO sqlalchemy.engine.base.Engine BEGIN (implicit)\n",
      "2018-08-04 10:52:28,921 INFO sqlalchemy.engine.base.Engine INSERT INTO recommendations1 (id, pred_1, pred_2, pred_3, pred_4, pred_5, pred_6, pred_7, pred_8, pred_9, pred_10) VALUES (%(id)s, %(pred_1)s, %(pred_2)s, %(pred_3)s, %(pred_4)s, %(pred_5)s, %(pred_6)s, %(pred_7)s, %(pred_8)s, %(pred_9)s, %(pred_10)s)\n",
      "2018-08-04 10:52:28,924 INFO sqlalchemy.engine.base.Engine {'pred_10': 5013056L, 'id': 2, 'pred_8': 72443L, 'pred_9': 493405L, 'pred_6': 107614L, 'pred_7': 5074352L, 'pred_4': 1343727L, 'pred_5': 77745L, 'pred_2': 332452L, 'pred_3': 1187064L, 'pred_1': 1661275L}\n",
      "2018-08-04 10:52:29,153 INFO sqlalchemy.engine.base.Engine COMMIT\n",
      "2018-08-04 10:52:29,700 INFO sqlalchemy.engine.base.Engine DESCRIBE `numeric_predictions`\n",
      "2018-08-04 10:52:29,704 INFO sqlalchemy.engine.base.Engine {}\n",
      "2018-08-04 10:52:29,946 INFO sqlalchemy.engine.base.Engine BEGIN (implicit)\n",
      "2018-08-04 10:52:29,950 INFO sqlalchemy.engine.base.Engine INSERT INTO numeric_predictions (user_id, item_id, algorithm) VALUES (%(user_id)s, %(item_id)s, %(algorithm)s)\n",
      "2018-08-04 10:52:29,953 INFO sqlalchemy.engine.base.Engine ({'item_id': 1343727L, 'user_id': 2L, 'algorithm': u'Random Items'}, {'item_id': 61418L, 'user_id': 2L, 'algorithm': u'Random Items'}, {'item_id': 67185L, 'user_id': 2L, 'algorithm': u'Random Items'}, {'item_id': 61578L, 'user_id': 2L, 'algorithm': u'Random Items'}, {'item_id': 61811L, 'user_id': 2L, 'algorithm': u'Random Items'}, {'item_id': 1187064L, 'user_id': 2L, 'algorithm': u'Random Items'}, {'item_id': 1655416L, 'user_id': 2L, 'algorithm': u'Random Items'}, {'item_id': 94963L, 'user_id': 2L, 'algorithm': u'Random Items'}  ... displaying 10 of 30 total bound parameter sets ...  {'item_id': 1235189L, 'user_id': 2L, 'algorithm': u'Random Items'}, {'item_id': 332452L, 'user_id': 2L, 'algorithm': u'Random Items'})\n",
      "2018-08-04 10:52:29,986 INFO sqlalchemy.engine.base.Engine COMMIT\n"
     ]
    }
   ],
   "source": [
    "new_module.compute_recommendations(2, 'recommendations1')"
   ]
  },
  {
   "cell_type": "code",
   "execution_count": 41,
   "metadata": {},
   "outputs": [],
   "source": [
    "current_algo = pd.DataFrame(columns = ['id', 'algorithm'])\n",
    "\n",
    "current_algo.loc[1] = [1, 'recommender1_random']\n",
    "current_algo.loc[2] = [2, 'recommender2_topitems']"
   ]
  },
  {
   "cell_type": "code",
   "execution_count": 42,
   "metadata": {
    "collapsed": true
   },
   "outputs": [],
   "source": []
  },
  {
   "cell_type": "code",
   "execution_count": 43,
   "metadata": {},
   "outputs": [
    {
     "data": {
      "text/html": [
       "<div>\n",
       "<style>\n",
       "    .dataframe thead tr:only-child th {\n",
       "        text-align: right;\n",
       "    }\n",
       "\n",
       "    .dataframe thead th {\n",
       "        text-align: left;\n",
       "    }\n",
       "\n",
       "    .dataframe tbody tr th {\n",
       "        vertical-align: top;\n",
       "    }\n",
       "</style>\n",
       "<table border=\"1\" class=\"dataframe\">\n",
       "  <thead>\n",
       "    <tr style=\"text-align: right;\">\n",
       "      <th></th>\n",
       "      <th>id</th>\n",
       "      <th>algorithm</th>\n",
       "    </tr>\n",
       "  </thead>\n",
       "  <tbody>\n",
       "    <tr>\n",
       "      <th>1</th>\n",
       "      <td>1</td>\n",
       "      <td>recommender1_random</td>\n",
       "    </tr>\n",
       "    <tr>\n",
       "      <th>2</th>\n",
       "      <td>2</td>\n",
       "      <td>recommender2_topitems</td>\n",
       "    </tr>\n",
       "  </tbody>\n",
       "</table>\n",
       "</div>"
      ],
      "text/plain": [
       "  id              algorithm\n",
       "1  1    recommender1_random\n",
       "2  2  recommender2_topitems"
      ]
     },
     "execution_count": 43,
     "metadata": {},
     "output_type": "execute_result"
    }
   ],
   "source": [
    "df"
   ]
  },
  {
   "cell_type": "code",
   "execution_count": null,
   "metadata": {
    "collapsed": true
   },
   "outputs": [],
   "source": []
  }
 ],
 "metadata": {
  "kernelspec": {
   "display_name": "Python 2",
   "language": "python",
   "name": "python2"
  },
  "language_info": {
   "codemirror_mode": {
    "name": "ipython",
    "version": 2
   },
   "file_extension": ".py",
   "mimetype": "text/x-python",
   "name": "python",
   "nbconvert_exporter": "python",
   "pygments_lexer": "ipython2",
   "version": "2.7.14"
  }
 },
 "nbformat": 4,
 "nbformat_minor": 2
}
